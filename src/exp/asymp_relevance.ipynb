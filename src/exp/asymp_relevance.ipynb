{
 "cells": [
  {
   "cell_type": "code",
   "execution_count": 13,
   "metadata": {},
   "outputs": [],
   "source": [
    "from sklearn.ensemble import RandomForestRegressor\n",
    "from sklearn.ensemble import GradientBoostingRegressor\n",
    "from sklearn.svm import SVR\n",
    "import numpy as np\n",
    "import pandas as pd\n",
    "from sklearn.model_selection import train_test_split\n",
    "from sklearn.metrics import mean_squared_error\n",
    "import random\n",
    "from sklearn.neural_network import MLPRegressor\n",
    "import tqdm\n",
    "import warnings\n",
    "\n",
    "warnings.filterwarnings(\"ignore\")\n",
    "\n",
    "random.seed(42)\n",
    "np.random.seed(42)\n",
    "\n",
    "## data\n",
    "\n",
    "\n",
    "def dgp_bivariatenormal(N=10000, cor = 0.9):\n",
    "    m = lambda x: x[:, 0] ** 2\n",
    "\n",
    "    x = np.random.multivariate_normal(\n",
    "        mean=[0, 0], cov=[[1, cor], [cor, 1]], size=N\n",
    "    )\n",
    "    data = pd.DataFrame(x, columns=[\"x1\", \"x2\"])\n",
    "    data[\"y\"] = m(data[[\"x1\", \"x2\"]].values) + np.random.normal(0, 0.2, N)\n",
    "    X = data[[\"x1\", \"x2\"]]\n",
    "    y = data[\"y\"]\n",
    "\n",
    "    return X, y\n",
    "\n",
    "\n",
    "## pfi\n",
    "\n",
    "\n",
    "def pfi(model, X, y, feature):\n",
    "    baseline_score = mean_squared_error(y, model.predict(X))\n",
    "    X_tilde = X.copy()\n",
    "    X_tilde[feature] = np.random.permutation(X_tilde[feature])\n",
    "    score = mean_squared_error(y, model.predict(X_tilde))\n",
    "    return score - baseline_score\n",
    "\n",
    "\n",
    "def pfis(model, X, y):\n",
    "    return {feature: pfi(model, X, y, feature) for feature in X.columns}\n",
    "\n",
    "\n",
    "def pfiss(model, X_train, y_train, X_test, y_test, repetitions=100):\n",
    "    scores = pd.DataFrame([], columns=X.columns)\n",
    "    for ii in tqdm.tqdm(range(repetitions)):\n",
    "        model.fit(X_train, y_train)\n",
    "        pfi_scores = pfis(model, X_test, y_test)\n",
    "        scores = pd.concat([scores, pd.DataFrame(pfi_scores, index=[ii])])\n",
    "    scores_agg = scores.mean(axis=0).to_frame().T\n",
    "    scores_agg.index = [\"mean\"]\n",
    "    scores_agg.loc[\"std\"] = scores.std(axis=0)\n",
    "    scores_agg.loc[\"min\"] = scores.min(axis=0)\n",
    "    scores_agg.loc[\"max\"] = scores.max(axis=0)\n",
    "    return scores_agg\n"
   ]
  },
  {
   "cell_type": "code",
   "execution_count": 16,
   "metadata": {},
   "outputs": [
    {
     "name": "stdout",
     "output_type": "stream",
     "text": [
      "CORRELATION=0\n",
      "         x1       x2\n",
      "x1  1.00000  0.00084\n",
      "x2  0.00084  1.00000\n"
     ]
    },
    {
     "name": "stderr",
     "output_type": "stream",
     "text": [
      "  0%|          | 0/100 [00:00<?, ?it/s]"
     ]
    },
    {
     "name": "stderr",
     "output_type": "stream",
     "text": [
      "100%|██████████| 100/100 [00:00<00:00, 132.42it/s]\n"
     ]
    },
    {
     "name": "stdout",
     "output_type": "stream",
     "text": [
      "LinearRegression: MSE=1.9673, PFI=            x1        x2\n",
      "mean -0.000013 -0.000476\n",
      "std   0.000312  0.001135\n",
      "min  -0.001077 -0.003783\n",
      "max   0.000583  0.001952\n"
     ]
    },
    {
     "name": "stderr",
     "output_type": "stream",
     "text": [
      "100%|██████████| 100/100 [00:00<00:00, 153.19it/s]\n"
     ]
    },
    {
     "name": "stdout",
     "output_type": "stream",
     "text": [
      "Lasso: MSE=1.9665, PFI=       x1   x2\n",
      "mean  0.0  0.0\n",
      "std   0.0  0.0\n",
      "min   0.0  0.0\n",
      "max   0.0  0.0\n"
     ]
    },
    {
     "name": "stderr",
     "output_type": "stream",
     "text": [
      "100%|██████████| 100/100 [00:05<00:00, 18.10it/s]\n"
     ]
    },
    {
     "name": "stdout",
     "output_type": "stream",
     "text": [
      "DecisionTree: MSE=0.0841, PFI=            x1        x2\n",
      "mean  3.863779  0.000343\n",
      "std   0.091372  0.004024\n",
      "min   3.638379 -0.009624\n",
      "max   4.051613  0.013544\n"
     ]
    },
    {
     "name": "stderr",
     "output_type": "stream",
     "text": [
      "100%|██████████| 100/100 [05:19<00:00,  3.19s/it]\n"
     ]
    },
    {
     "name": "stdout",
     "output_type": "stream",
     "text": [
      "RandomForest: MSE=0.0466, PFI=            x1        x2\n",
      "mean  3.854633 -0.000341\n",
      "std   0.091441  0.000837\n",
      "min   3.633923 -0.002283\n",
      "max   4.090532  0.001623\n"
     ]
    },
    {
     "name": "stderr",
     "output_type": "stream",
     "text": [
      "100%|██████████| 100/100 [02:04<00:00,  1.25s/it]\n"
     ]
    },
    {
     "name": "stdout",
     "output_type": "stream",
     "text": [
      "ExtraTrees: MSE=0.0498, PFI=            x1        x2\n",
      "mean  3.854723  0.000142\n",
      "std   0.082563  0.000820\n",
      "min   3.614130 -0.001703\n",
      "max   4.094536  0.002964\n"
     ]
    },
    {
     "name": "stderr",
     "output_type": "stream",
     "text": [
      "100%|██████████| 100/100 [01:28<00:00,  1.13it/s]\n"
     ]
    },
    {
     "name": "stdout",
     "output_type": "stream",
     "text": [
      "GradientBoosting: MSE=0.0391, PFI=            x1        x2\n",
      "mean  3.853638  0.000115\n",
      "std   0.079878  0.000383\n",
      "min   3.612521 -0.000380\n",
      "max   4.019048  0.001431\n"
     ]
    },
    {
     "name": "stderr",
     "output_type": "stream",
     "text": [
      "100%|██████████| 100/100 [00:52<00:00,  1.89it/s]\n"
     ]
    },
    {
     "name": "stdout",
     "output_type": "stream",
     "text": [
      "HistGradientBoosting: MSE=0.0576, PFI=            x1        x2\n",
      "mean  3.930768 -0.000604\n",
      "std   0.096621  0.001151\n",
      "min   3.659158 -0.002893\n",
      "max   4.168251  0.002485\n"
     ]
    },
    {
     "name": "stderr",
     "output_type": "stream",
     "text": [
      "100%|██████████| 100/100 [00:37<00:00,  2.69it/s]\n"
     ]
    },
    {
     "name": "stdout",
     "output_type": "stream",
     "text": [
      "AdaBoost: MSE=0.4198, PFI=            x1   x2\n",
      "mean  2.764103  0.0\n",
      "std   0.061096  0.0\n",
      "min   2.567479  0.0\n",
      "max   2.921966  0.0\n"
     ]
    },
    {
     "name": "stderr",
     "output_type": "stream",
     "text": [
      "100%|██████████| 100/100 [00:33<00:00,  2.97it/s]\n"
     ]
    },
    {
     "name": "stdout",
     "output_type": "stream",
     "text": [
      "Bagging: MSE=0.0509, PFI=            x1        x2\n",
      "mean  3.876550 -0.000455\n",
      "std   0.090376  0.000879\n",
      "min   3.642744 -0.002564\n",
      "max   4.095895  0.001928\n"
     ]
    },
    {
     "name": "stderr",
     "output_type": "stream",
     "text": [
      "100%|██████████| 100/100 [02:34<00:00,  1.55s/it]\n"
     ]
    },
    {
     "name": "stdout",
     "output_type": "stream",
     "text": [
      "MLPRegressor: MSE=0.0385, PFI=            x1        x2\n",
      "mean  3.854908  0.000086\n",
      "std   0.088635  0.000170\n",
      "min   3.643052 -0.000313\n",
      "max   4.059193  0.000560\n"
     ]
    },
    {
     "name": "stderr",
     "output_type": "stream",
     "text": [
      "100%|██████████| 100/100 [06:01<00:00,  3.62s/it]\n"
     ]
    },
    {
     "name": "stdout",
     "output_type": "stream",
     "text": [
      "SVR: MSE=0.0417, PFI=            x1        x2\n",
      "mean  3.813108  0.000522\n",
      "std   0.081620  0.002328\n",
      "min   3.609502 -0.002971\n",
      "max   4.052613  0.012927\n"
     ]
    },
    {
     "name": "stderr",
     "output_type": "stream",
     "text": [
      "100%|██████████| 100/100 [00:02<00:00, 44.60it/s]\n"
     ]
    },
    {
     "name": "stdout",
     "output_type": "stream",
     "text": [
      "KNN: MSE=0.0556, PFI=            x1        x2\n",
      "mean  3.737497  0.001169\n",
      "std   0.086642  0.004294\n",
      "min   3.479219 -0.005660\n",
      "max   3.881928  0.016878\n",
      "CORRELATION=0.3\n",
      "          x1        x2\n",
      "x1  1.000000  0.295301\n",
      "x2  0.295301  1.000000\n"
     ]
    },
    {
     "name": "stderr",
     "output_type": "stream",
     "text": [
      "100%|██████████| 100/100 [00:00<00:00, 157.59it/s]\n"
     ]
    },
    {
     "name": "stdout",
     "output_type": "stream",
     "text": [
      "LinearRegression: MSE=2.2244, PFI=            x1        x2\n",
      "mean -0.011590  0.003191\n",
      "std   0.002911  0.001421\n",
      "min  -0.018645 -0.000705\n",
      "max  -0.005373  0.006349\n"
     ]
    },
    {
     "name": "stderr",
     "output_type": "stream",
     "text": [
      "100%|██████████| 100/100 [00:00<00:00, 164.47it/s]\n"
     ]
    },
    {
     "name": "stdout",
     "output_type": "stream",
     "text": [
      "Lasso: MSE=2.2127, PFI=       x1   x2\n",
      "mean  0.0  0.0\n",
      "std   0.0  0.0\n",
      "min   0.0  0.0\n",
      "max   0.0  0.0\n"
     ]
    },
    {
     "name": "stderr",
     "output_type": "stream",
     "text": [
      "100%|██████████| 100/100 [00:05<00:00, 17.56it/s]\n"
     ]
    },
    {
     "name": "stdout",
     "output_type": "stream",
     "text": [
      "DecisionTree: MSE=0.0776, PFI=            x1        x2\n",
      "mean  4.344746  0.003817\n",
      "std   0.089893  0.002094\n",
      "min   4.086614 -0.001214\n",
      "max   4.582445  0.008395\n"
     ]
    },
    {
     "name": "stderr",
     "output_type": "stream",
     "text": [
      "100%|██████████| 100/100 [05:32<00:00,  3.32s/it]\n"
     ]
    },
    {
     "name": "stdout",
     "output_type": "stream",
     "text": [
      "RandomForest: MSE=0.0460, PFI=            x1        x2\n",
      "mean  4.324058  0.001007\n",
      "std   0.099189  0.000789\n",
      "min   3.821794 -0.000962\n",
      "max   4.547465  0.002960\n"
     ]
    },
    {
     "name": "stderr",
     "output_type": "stream",
     "text": [
      "100%|██████████| 100/100 [02:03<00:00,  1.23s/it]\n"
     ]
    },
    {
     "name": "stdout",
     "output_type": "stream",
     "text": [
      "ExtraTrees: MSE=0.0504, PFI=            x1        x2\n",
      "mean  4.334732  0.000356\n",
      "std   0.103385  0.000898\n",
      "min   4.079095 -0.001578\n",
      "max   4.602666  0.002116\n"
     ]
    },
    {
     "name": "stderr",
     "output_type": "stream",
     "text": [
      "100%|██████████| 100/100 [01:28<00:00,  1.13it/s]\n"
     ]
    },
    {
     "name": "stdout",
     "output_type": "stream",
     "text": [
      "GradientBoosting: MSE=0.0398, PFI=            x1        x2\n",
      "mean  4.313196  0.000135\n",
      "std   0.096239  0.000114\n",
      "min   4.037590 -0.000109\n",
      "max   4.518155  0.000506\n"
     ]
    },
    {
     "name": "stderr",
     "output_type": "stream",
     "text": [
      "100%|██████████| 100/100 [00:53<00:00,  1.88it/s]\n"
     ]
    },
    {
     "name": "stdout",
     "output_type": "stream",
     "text": [
      "HistGradientBoosting: MSE=0.0609, PFI=            x1        x2\n",
      "mean  4.292695 -0.000610\n",
      "std   0.102774  0.000878\n",
      "min   4.009607 -0.002224\n",
      "max   4.524656  0.002734\n"
     ]
    },
    {
     "name": "stderr",
     "output_type": "stream",
     "text": [
      "100%|██████████| 100/100 [00:37<00:00,  2.68it/s]\n"
     ]
    },
    {
     "name": "stdout",
     "output_type": "stream",
     "text": [
      "AdaBoost: MSE=0.4163, PFI=            x1   x2\n",
      "mean  3.151895  0.0\n",
      "std   0.074039  0.0\n",
      "min   2.985979  0.0\n",
      "max   3.326088  0.0\n"
     ]
    },
    {
     "name": "stderr",
     "output_type": "stream",
     "text": [
      "100%|██████████| 100/100 [00:35<00:00,  2.79it/s]\n"
     ]
    },
    {
     "name": "stdout",
     "output_type": "stream",
     "text": [
      "Bagging: MSE=0.0501, PFI=            x1        x2\n",
      "mean  4.331977  0.000208\n",
      "std   0.106231  0.000771\n",
      "min   4.086622 -0.001352\n",
      "max   4.567673  0.002368\n"
     ]
    },
    {
     "name": "stderr",
     "output_type": "stream",
     "text": [
      "100%|██████████| 100/100 [02:51<00:00,  1.71s/it]\n"
     ]
    },
    {
     "name": "stdout",
     "output_type": "stream",
     "text": [
      "MLPRegressor: MSE=0.0395, PFI=            x1        x2\n",
      "mean  4.302958  0.000690\n",
      "std   0.098288  0.000284\n",
      "min   4.074472  0.000113\n",
      "max   4.575419  0.001397\n"
     ]
    },
    {
     "name": "stderr",
     "output_type": "stream",
     "text": [
      "100%|██████████| 100/100 [05:59<00:00,  3.59s/it]\n"
     ]
    },
    {
     "name": "stdout",
     "output_type": "stream",
     "text": [
      "SVR: MSE=0.0430, PFI=            x1        x2\n",
      "mean  4.201229  0.009998\n",
      "std   0.087768  0.005590\n",
      "min   3.991888  0.001557\n",
      "max   4.374788  0.024876\n"
     ]
    },
    {
     "name": "stderr",
     "output_type": "stream",
     "text": [
      "100%|██████████| 100/100 [00:02<00:00, 44.76it/s]\n"
     ]
    },
    {
     "name": "stdout",
     "output_type": "stream",
     "text": [
      "KNN: MSE=0.0534, PFI=            x1        x2\n",
      "mean  4.127592  0.021486\n",
      "std   0.092369  0.008355\n",
      "min   3.909421  0.004711\n",
      "max   4.339016  0.049502\n",
      "CORRELATION=0.6\n",
      "          x1        x2\n",
      "x1  1.000000  0.588319\n",
      "x2  0.588319  1.000000\n"
     ]
    },
    {
     "name": "stderr",
     "output_type": "stream",
     "text": [
      "100%|██████████| 100/100 [00:00<00:00, 160.83it/s]\n"
     ]
    },
    {
     "name": "stdout",
     "output_type": "stream",
     "text": [
      "LinearRegression: MSE=1.9887, PFI=            x1        x2\n",
      "mean  0.004048  0.000232\n",
      "std   0.002399  0.000403\n",
      "min  -0.002792 -0.001396\n",
      "max   0.009459  0.001315\n"
     ]
    },
    {
     "name": "stderr",
     "output_type": "stream",
     "text": [
      "100%|██████████| 100/100 [00:00<00:00, 165.69it/s]\n"
     ]
    },
    {
     "name": "stdout",
     "output_type": "stream",
     "text": [
      "Lasso: MSE=1.9917, PFI=       x1   x2\n",
      "mean  0.0  0.0\n",
      "std   0.0  0.0\n",
      "min   0.0  0.0\n",
      "max   0.0  0.0\n"
     ]
    },
    {
     "name": "stderr",
     "output_type": "stream",
     "text": [
      "100%|██████████| 100/100 [00:05<00:00, 18.79it/s]\n"
     ]
    },
    {
     "name": "stdout",
     "output_type": "stream",
     "text": [
      "DecisionTree: MSE=0.0861, PFI=            x1        x2\n",
      "mean  3.891849 -0.001705\n",
      "std   0.082967  0.002863\n",
      "min   3.697787 -0.007040\n",
      "max   4.112897  0.005437\n"
     ]
    },
    {
     "name": "stderr",
     "output_type": "stream",
     "text": [
      "100%|██████████| 100/100 [05:34<00:00,  3.35s/it]\n"
     ]
    },
    {
     "name": "stdout",
     "output_type": "stream",
     "text": [
      "RandomForest: MSE=0.0508, PFI=            x1        x2\n",
      "mean  3.871157 -0.000122\n",
      "std   0.098279  0.000743\n",
      "min   3.545633 -0.002623\n",
      "max   4.135522  0.001571\n"
     ]
    },
    {
     "name": "stderr",
     "output_type": "stream",
     "text": [
      "100%|██████████| 100/100 [02:03<00:00,  1.23s/it]\n"
     ]
    },
    {
     "name": "stdout",
     "output_type": "stream",
     "text": [
      "ExtraTrees: MSE=0.0545, PFI=            x1        x2\n",
      "mean  3.866437 -0.000148\n",
      "std   0.083277  0.000987\n",
      "min   3.658295 -0.002472\n",
      "max   4.073157  0.002609\n"
     ]
    },
    {
     "name": "stderr",
     "output_type": "stream",
     "text": [
      "100%|██████████| 100/100 [01:29<00:00,  1.12it/s]\n"
     ]
    },
    {
     "name": "stdout",
     "output_type": "stream",
     "text": [
      "GradientBoosting: MSE=0.0430, PFI=            x1        x2\n",
      "mean  3.872998 -0.000076\n",
      "std   0.080662  0.000128\n",
      "min   3.616274 -0.000350\n",
      "max   4.065046  0.000286\n"
     ]
    },
    {
     "name": "stderr",
     "output_type": "stream",
     "text": [
      "100%|██████████| 100/100 [00:53<00:00,  1.88it/s]\n"
     ]
    },
    {
     "name": "stdout",
     "output_type": "stream",
     "text": [
      "HistGradientBoosting: MSE=0.0766, PFI=            x1        x2\n",
      "mean  3.740978  0.003184\n",
      "std   0.078224  0.001575\n",
      "min   3.524931 -0.002481\n",
      "max   3.888964  0.006610\n"
     ]
    },
    {
     "name": "stderr",
     "output_type": "stream",
     "text": [
      "100%|██████████| 100/100 [00:37<00:00,  2.67it/s]\n"
     ]
    },
    {
     "name": "stdout",
     "output_type": "stream",
     "text": [
      "AdaBoost: MSE=0.4387, PFI=            x1   x2\n",
      "mean  2.782195  0.0\n",
      "std   0.059212  0.0\n",
      "min   2.637178  0.0\n",
      "max   2.960180  0.0\n"
     ]
    },
    {
     "name": "stderr",
     "output_type": "stream",
     "text": [
      "100%|██████████| 100/100 [00:33<00:00,  2.99it/s]\n"
     ]
    },
    {
     "name": "stdout",
     "output_type": "stream",
     "text": [
      "Bagging: MSE=0.0539, PFI=            x1        x2\n",
      "mean  3.859004  0.000300\n",
      "std   0.084908  0.000976\n",
      "min   3.663146 -0.002556\n",
      "max   4.038548  0.003072\n"
     ]
    },
    {
     "name": "stderr",
     "output_type": "stream",
     "text": [
      "100%|██████████| 100/100 [02:23<00:00,  1.43s/it]\n"
     ]
    },
    {
     "name": "stdout",
     "output_type": "stream",
     "text": [
      "MLPRegressor: MSE=0.0435, PFI=            x1        x2\n",
      "mean  3.813805  0.003647\n",
      "std   0.081486  0.001181\n",
      "min   3.613025  0.001231\n",
      "max   3.998697  0.007231\n"
     ]
    },
    {
     "name": "stderr",
     "output_type": "stream",
     "text": [
      "100%|██████████| 100/100 [05:51<00:00,  3.51s/it]\n"
     ]
    },
    {
     "name": "stdout",
     "output_type": "stream",
     "text": [
      "SVR: MSE=0.0545, PFI=            x1        x2\n",
      "mean  3.598161  0.055593\n",
      "std   0.092392  0.016646\n",
      "min   3.393994  0.018172\n",
      "max   3.889210  0.099977\n"
     ]
    },
    {
     "name": "stderr",
     "output_type": "stream",
     "text": [
      "100%|██████████| 100/100 [00:02<00:00, 44.29it/s]\n"
     ]
    },
    {
     "name": "stdout",
     "output_type": "stream",
     "text": [
      "KNN: MSE=0.0602, PFI=            x1        x2\n",
      "mean  3.486306  0.110535\n",
      "std   0.080031  0.020866\n",
      "min   3.280350  0.065832\n",
      "max   3.646570  0.168640\n",
      "CORRELATION=0.9\n",
      "         x1       x2\n",
      "x1  1.00000  0.90226\n",
      "x2  0.90226  1.00000\n"
     ]
    },
    {
     "name": "stderr",
     "output_type": "stream",
     "text": [
      "100%|██████████| 100/100 [00:00<00:00, 154.44it/s]\n"
     ]
    },
    {
     "name": "stdout",
     "output_type": "stream",
     "text": [
      "LinearRegression: MSE=1.9223, PFI=            x1        x2\n",
      "mean  0.000563  0.000839\n",
      "std   0.002440  0.000582\n",
      "min  -0.005361 -0.000715\n",
      "max   0.005277  0.002241\n"
     ]
    },
    {
     "name": "stderr",
     "output_type": "stream",
     "text": [
      "100%|██████████| 100/100 [00:00<00:00, 158.75it/s]\n"
     ]
    },
    {
     "name": "stdout",
     "output_type": "stream",
     "text": [
      "Lasso: MSE=1.9210, PFI=       x1   x2\n",
      "mean  0.0  0.0\n",
      "std   0.0  0.0\n",
      "min   0.0  0.0\n",
      "max   0.0  0.0\n"
     ]
    },
    {
     "name": "stderr",
     "output_type": "stream",
     "text": [
      "100%|██████████| 100/100 [00:05<00:00, 18.69it/s]\n"
     ]
    },
    {
     "name": "stdout",
     "output_type": "stream",
     "text": [
      "DecisionTree: MSE=0.0794, PFI=            x1        x2\n",
      "mean  3.766616  0.005630\n",
      "std   0.087437  0.001772\n",
      "min   3.526393  0.000640\n",
      "max   3.968657  0.010624\n"
     ]
    },
    {
     "name": "stderr",
     "output_type": "stream",
     "text": [
      "100%|██████████| 100/100 [05:26<00:00,  3.27s/it]\n"
     ]
    },
    {
     "name": "stdout",
     "output_type": "stream",
     "text": [
      "RandomForest: MSE=0.0485, PFI=            x1        x2\n",
      "mean  3.716279  0.001095\n",
      "std   0.096054  0.000628\n",
      "min   3.500141 -0.000698\n",
      "max   3.909234  0.002512\n"
     ]
    },
    {
     "name": "stderr",
     "output_type": "stream",
     "text": [
      "100%|██████████| 100/100 [01:57<00:00,  1.17s/it]\n"
     ]
    },
    {
     "name": "stdout",
     "output_type": "stream",
     "text": [
      "ExtraTrees: MSE=0.0508, PFI=            x1        x2\n",
      "mean  3.317336  0.066476\n",
      "std   0.072974  0.005807\n",
      "min   3.097103  0.048674\n",
      "max   3.471952  0.084536\n"
     ]
    },
    {
     "name": "stderr",
     "output_type": "stream",
     "text": [
      "100%|██████████| 100/100 [01:28<00:00,  1.14it/s]\n"
     ]
    },
    {
     "name": "stdout",
     "output_type": "stream",
     "text": [
      "GradientBoosting: MSE=0.0422, PFI=            x1        x2\n",
      "mean  3.696067  0.000536\n",
      "std   0.084199  0.000229\n",
      "min   3.519706 -0.000117\n",
      "max   3.870361  0.001258\n"
     ]
    },
    {
     "name": "stderr",
     "output_type": "stream",
     "text": [
      "100%|██████████| 100/100 [00:53<00:00,  1.85it/s]\n"
     ]
    },
    {
     "name": "stdout",
     "output_type": "stream",
     "text": [
      "HistGradientBoosting: MSE=0.0533, PFI=            x1        x2\n",
      "mean  3.686006 -0.000650\n",
      "std   0.077665  0.000488\n",
      "min   3.470947 -0.001694\n",
      "max   3.891828  0.000598\n"
     ]
    },
    {
     "name": "stderr",
     "output_type": "stream",
     "text": [
      "100%|██████████| 100/100 [00:36<00:00,  2.70it/s]\n"
     ]
    },
    {
     "name": "stdout",
     "output_type": "stream",
     "text": [
      "AdaBoost: MSE=0.5033, PFI=            x1   x2\n",
      "mean  2.503713  0.0\n",
      "std   0.064827  0.0\n",
      "min   2.306841  0.0\n",
      "max   2.647428  0.0\n"
     ]
    },
    {
     "name": "stderr",
     "output_type": "stream",
     "text": [
      "100%|██████████| 100/100 [00:33<00:00,  2.99it/s]\n"
     ]
    },
    {
     "name": "stdout",
     "output_type": "stream",
     "text": [
      "Bagging: MSE=0.0514, PFI=            x1        x2\n",
      "mean  3.738787  0.001931\n",
      "std   0.089859  0.000927\n",
      "min   3.510884 -0.000559\n",
      "max   3.998434  0.004372\n"
     ]
    },
    {
     "name": "stderr",
     "output_type": "stream",
     "text": [
      "100%|██████████| 100/100 [02:06<00:00,  1.26s/it]\n"
     ]
    },
    {
     "name": "stdout",
     "output_type": "stream",
     "text": [
      "MLPRegressor: MSE=0.0413, PFI=            x1        x2\n",
      "mean  3.502292  0.019697\n",
      "std   0.086638  0.002050\n",
      "min   3.266302  0.014664\n",
      "max   3.695055  0.026765\n"
     ]
    },
    {
     "name": "stderr",
     "output_type": "stream",
     "text": [
      "100%|██████████| 100/100 [05:49<00:00,  3.49s/it]\n"
     ]
    },
    {
     "name": "stdout",
     "output_type": "stream",
     "text": [
      "SVR: MSE=0.0413, PFI=            x1        x2\n",
      "mean  2.901527  0.209362\n",
      "std   0.076345  0.012636\n",
      "min   2.701342  0.185711\n",
      "max   3.056989  0.246902\n"
     ]
    },
    {
     "name": "stderr",
     "output_type": "stream",
     "text": [
      "100%|██████████| 100/100 [00:02<00:00, 43.45it/s]"
     ]
    },
    {
     "name": "stdout",
     "output_type": "stream",
     "text": [
      "KNN: MSE=0.0501, PFI=            x1        x2\n",
      "mean  2.910489  0.534244\n",
      "std   0.052216  0.038457\n",
      "min   2.788326  0.458514\n",
      "max   3.039082  0.643433\n"
     ]
    },
    {
     "name": "stderr",
     "output_type": "stream",
     "text": [
      "\n"
     ]
    }
   ],
   "source": [
    "from sklearn.linear_model import (\n",
    "    LinearRegression,\n",
    "    Ridge,\n",
    "    Lasso,\n",
    ")\n",
    "from sklearn.tree import DecisionTreeRegressor\n",
    "from sklearn.ensemble import (\n",
    "    RandomForestRegressor,\n",
    "    GradientBoostingRegressor,\n",
    "    ExtraTreesRegressor,\n",
    "    AdaBoostRegressor,\n",
    "    BaggingRegressor,\n",
    "    HistGradientBoostingRegressor,\n",
    ")\n",
    "from sklearn.neural_network import MLPRegressor\n",
    "from sklearn.svm import SVR\n",
    "from sklearn.neighbors import KNeighborsRegressor\n",
    "from sklearn.gaussian_process import GaussianProcessRegressor\n",
    "\n",
    "models = {\n",
    "    \"LinearRegression\": LinearRegression(),\n",
    "    \"Lasso\": Lasso(),\n",
    "    \"DecisionTree\": DecisionTreeRegressor(random_state=42),\n",
    "    \"RandomForest\": RandomForestRegressor(random_state=42),\n",
    "    \"ExtraTrees\": ExtraTreesRegressor(random_state=42),\n",
    "    \"GradientBoosting\": GradientBoostingRegressor(random_state=42),\n",
    "    \"HistGradientBoosting\": HistGradientBoostingRegressor(random_state=42),\n",
    "    \"AdaBoost\": AdaBoostRegressor(random_state=42),\n",
    "    \"Bagging\": BaggingRegressor(random_state=42),\n",
    "    \"MLPRegressor\": MLPRegressor(random_state=42, max_iter=1000),\n",
    "    \"SVR\": SVR(),\n",
    "    \"KNN\": KNeighborsRegressor(),\n",
    "}\n",
    "for cor in [0, 0.3, 0.6, 0.9]:\n",
    "    X, y = dgp_bivariatenormal(N=10000, cor=cor)\n",
    "    print(f\"CORRELATION={cor}\")\n",
    "    print(X.corr())\n",
    "    X_train, X_test, y_train, y_test = train_test_split(\n",
    "        X, y, test_size=0.2, random_state=42\n",
    "    )\n",
    "    for name, model in models.items():\n",
    "        model.fit(X_train, y_train)\n",
    "        mse = mean_squared_error(y_test, model.predict(X_test))\n",
    "        pfi_scores = pfiss(model, X_train, y_train, X_test, y_test, repetitions=100)\n",
    "        print(f\"{name}: MSE={mse:.4f}, PFI={pfi_scores}\")"
   ]
  },
  {
   "cell_type": "code",
   "execution_count": 17,
   "metadata": {},
   "outputs": [
    {
     "name": "stdout",
     "output_type": "stream",
     "text": [
      "CORRELATION=0\n",
      "          x1        x2\n",
      "x1  1.000000  0.031091\n",
      "x2  0.031091  1.000000\n"
     ]
    },
    {
     "name": "stderr",
     "output_type": "stream",
     "text": [
      "100%|██████████| 100/100 [00:00<00:00, 167.57it/s]\n"
     ]
    },
    {
     "name": "stdout",
     "output_type": "stream",
     "text": [
      "LinearRegression: MSE=1.9893, PFI=            x1        x2\n",
      "mean -0.014089 -0.015788\n",
      "std   0.005850  0.006276\n",
      "min  -0.025946 -0.027154\n",
      "max  -0.001309 -0.000311\n"
     ]
    },
    {
     "name": "stderr",
     "output_type": "stream",
     "text": [
      "100%|██████████| 100/100 [00:00<00:00, 164.59it/s]\n"
     ]
    },
    {
     "name": "stdout",
     "output_type": "stream",
     "text": [
      "Lasso: MSE=1.9567, PFI=       x1   x2\n",
      "mean  0.0  0.0\n",
      "std   0.0  0.0\n",
      "min   0.0  0.0\n",
      "max   0.0  0.0\n"
     ]
    },
    {
     "name": "stderr",
     "output_type": "stream",
     "text": [
      "100%|██████████| 100/100 [00:00<00:00, 107.56it/s]\n"
     ]
    },
    {
     "name": "stdout",
     "output_type": "stream",
     "text": [
      "DecisionTree: MSE=0.0861, PFI=            x1        x2\n",
      "mean  3.884663  0.003767\n",
      "std   0.277064  0.005526\n",
      "min   3.104267 -0.009207\n",
      "max   4.378028  0.016591\n"
     ]
    },
    {
     "name": "stderr",
     "output_type": "stream",
     "text": [
      "100%|██████████| 100/100 [00:31<00:00,  3.14it/s]\n"
     ]
    },
    {
     "name": "stdout",
     "output_type": "stream",
     "text": [
      "RandomForest: MSE=0.0596, PFI=            x1        x2\n",
      "mean  3.859791 -0.001532\n",
      "std   0.269398  0.002715\n",
      "min   3.212411 -0.007676\n",
      "max   4.392601  0.005034\n"
     ]
    },
    {
     "name": "stderr",
     "output_type": "stream",
     "text": [
      "100%|██████████| 100/100 [00:17<00:00,  5.78it/s]\n"
     ]
    },
    {
     "name": "stdout",
     "output_type": "stream",
     "text": [
      "ExtraTrees: MSE=0.0618, PFI=            x1        x2\n",
      "mean  3.899472 -0.003437\n",
      "std   0.311407  0.002440\n",
      "min   3.063279 -0.008733\n",
      "max   4.630729  0.003955\n"
     ]
    },
    {
     "name": "stderr",
     "output_type": "stream",
     "text": [
      "100%|██████████| 100/100 [00:12<00:00,  7.85it/s]\n"
     ]
    },
    {
     "name": "stdout",
     "output_type": "stream",
     "text": [
      "GradientBoosting: MSE=0.0482, PFI=            x1        x2\n",
      "mean  3.895849  0.002847\n",
      "std   0.286048  0.001306\n",
      "min   3.091033 -0.000283\n",
      "max   4.486560  0.005527\n"
     ]
    },
    {
     "name": "stderr",
     "output_type": "stream",
     "text": [
      "100%|██████████| 100/100 [00:48<00:00,  2.07it/s]\n"
     ]
    },
    {
     "name": "stdout",
     "output_type": "stream",
     "text": [
      "HistGradientBoosting: MSE=0.1519, PFI=            x1        x2\n",
      "mean  3.409924  0.001215\n",
      "std   0.235027  0.015100\n",
      "min   2.780866 -0.032218\n",
      "max   3.856709  0.028756\n"
     ]
    },
    {
     "name": "stderr",
     "output_type": "stream",
     "text": [
      "100%|██████████| 100/100 [00:10<00:00,  9.86it/s]\n"
     ]
    },
    {
     "name": "stdout",
     "output_type": "stream",
     "text": [
      "AdaBoost: MSE=0.1740, PFI=            x1        x2\n",
      "mean  3.216939  0.000894\n",
      "std   0.252970  0.001548\n",
      "min   2.187867 -0.000949\n",
      "max   3.666714  0.007669\n"
     ]
    },
    {
     "name": "stderr",
     "output_type": "stream",
     "text": [
      "100%|██████████| 100/100 [00:04<00:00, 22.45it/s]\n"
     ]
    },
    {
     "name": "stdout",
     "output_type": "stream",
     "text": [
      "Bagging: MSE=0.0797, PFI=            x1        x2\n",
      "mean  3.800250 -0.005033\n",
      "std   0.337463  0.009430\n",
      "min   2.668851 -0.024884\n",
      "max   4.339455  0.019592\n"
     ]
    },
    {
     "name": "stderr",
     "output_type": "stream",
     "text": [
      "100%|██████████| 100/100 [00:46<00:00,  2.14it/s]\n"
     ]
    },
    {
     "name": "stdout",
     "output_type": "stream",
     "text": [
      "MLPRegressor: MSE=0.0564, PFI=            x1        x2\n",
      "mean  3.738111 -0.001552\n",
      "std   0.277721  0.002237\n",
      "min   2.619581 -0.005682\n",
      "max   4.285212  0.004806\n"
     ]
    },
    {
     "name": "stderr",
     "output_type": "stream",
     "text": [
      "100%|██████████| 100/100 [00:05<00:00, 19.44it/s]\n"
     ]
    },
    {
     "name": "stdout",
     "output_type": "stream",
     "text": [
      "SVR: MSE=0.1005, PFI=            x1        x2\n",
      "mean  3.581477 -0.007146\n",
      "std   0.227123  0.023903\n",
      "min   3.064860 -0.035857\n",
      "max   4.229636  0.096135\n"
     ]
    },
    {
     "name": "stderr",
     "output_type": "stream",
     "text": [
      "100%|██████████| 100/100 [00:00<00:00, 122.20it/s]\n"
     ]
    },
    {
     "name": "stdout",
     "output_type": "stream",
     "text": [
      "KNN: MSE=0.1374, PFI=            x1        x2\n",
      "mean  3.346836  0.001785\n",
      "std   0.255787  0.032268\n",
      "min   2.669703 -0.048188\n",
      "max   3.995456  0.130948\n",
      "CORRELATION=0.3\n",
      "          x1        x2\n",
      "x1  1.000000  0.350065\n",
      "x2  0.350065  1.000000\n"
     ]
    },
    {
     "name": "stderr",
     "output_type": "stream",
     "text": [
      "100%|██████████| 100/100 [00:00<00:00, 174.85it/s]\n"
     ]
    },
    {
     "name": "stdout",
     "output_type": "stream",
     "text": [
      "LinearRegression: MSE=1.9488, PFI=            x1        x2\n",
      "mean -0.052836  0.042279\n",
      "std   0.018071  0.021863\n",
      "min  -0.089730 -0.002743\n",
      "max  -0.017362  0.101307\n"
     ]
    },
    {
     "name": "stderr",
     "output_type": "stream",
     "text": [
      "100%|██████████| 100/100 [00:00<00:00, 169.74it/s]\n"
     ]
    },
    {
     "name": "stdout",
     "output_type": "stream",
     "text": [
      "Lasso: MSE=1.9080, PFI=       x1   x2\n",
      "mean  0.0  0.0\n",
      "std   0.0  0.0\n",
      "min   0.0  0.0\n",
      "max   0.0  0.0\n"
     ]
    },
    {
     "name": "stderr",
     "output_type": "stream",
     "text": [
      "100%|██████████| 100/100 [00:00<00:00, 110.32it/s]\n"
     ]
    },
    {
     "name": "stdout",
     "output_type": "stream",
     "text": [
      "DecisionTree: MSE=0.0746, PFI=            x1        x2\n",
      "mean  3.673758  0.009564\n",
      "std   0.268391  0.005673\n",
      "min   2.897556 -0.000926\n",
      "max   4.376965  0.031078\n"
     ]
    },
    {
     "name": "stderr",
     "output_type": "stream",
     "text": [
      "100%|██████████| 100/100 [00:31<00:00,  3.19it/s]\n"
     ]
    },
    {
     "name": "stdout",
     "output_type": "stream",
     "text": [
      "RandomForest: MSE=0.0513, PFI=            x1        x2\n",
      "mean  3.707388  0.001533\n",
      "std   0.282562  0.001964\n",
      "min   2.880791 -0.003335\n",
      "max   4.313338  0.007783\n"
     ]
    },
    {
     "name": "stderr",
     "output_type": "stream",
     "text": [
      "100%|██████████| 100/100 [00:16<00:00,  5.97it/s]\n"
     ]
    },
    {
     "name": "stdout",
     "output_type": "stream",
     "text": [
      "ExtraTrees: MSE=0.0500, PFI=            x1        x2\n",
      "mean  3.802778  0.001651\n",
      "std   0.302491  0.002398\n",
      "min   2.871454 -0.002886\n",
      "max   4.491046  0.010264\n"
     ]
    },
    {
     "name": "stderr",
     "output_type": "stream",
     "text": [
      "100%|██████████| 100/100 [00:12<00:00,  8.18it/s]\n"
     ]
    },
    {
     "name": "stdout",
     "output_type": "stream",
     "text": [
      "GradientBoosting: MSE=0.0491, PFI=            x1        x2\n",
      "mean  3.607169  0.001115\n",
      "std   0.265492  0.001238\n",
      "min   2.993361 -0.001477\n",
      "max   4.206072  0.004189\n"
     ]
    },
    {
     "name": "stderr",
     "output_type": "stream",
     "text": [
      "100%|██████████| 100/100 [00:46<00:00,  2.14it/s]\n"
     ]
    },
    {
     "name": "stdout",
     "output_type": "stream",
     "text": [
      "HistGradientBoosting: MSE=0.1759, PFI=            x1        x2\n",
      "mean  3.526689 -0.009862\n",
      "std   0.258264  0.014161\n",
      "min   2.885147 -0.050013\n",
      "max   4.047708  0.021765\n"
     ]
    },
    {
     "name": "stderr",
     "output_type": "stream",
     "text": [
      "100%|██████████| 100/100 [00:09<00:00, 10.17it/s]\n"
     ]
    },
    {
     "name": "stdout",
     "output_type": "stream",
     "text": [
      "AdaBoost: MSE=0.1772, PFI=            x1   x2\n",
      "mean  3.079852  0.0\n",
      "std   0.223057  0.0\n",
      "min   2.404450  0.0\n",
      "max   3.552139  0.0\n"
     ]
    },
    {
     "name": "stderr",
     "output_type": "stream",
     "text": [
      "100%|██████████| 100/100 [00:04<00:00, 22.11it/s]\n"
     ]
    },
    {
     "name": "stdout",
     "output_type": "stream",
     "text": [
      "Bagging: MSE=0.0528, PFI=            x1        x2\n",
      "mean  3.780437  0.002147\n",
      "std   0.262786  0.002411\n",
      "min   3.023887 -0.002897\n",
      "max   4.420651  0.010574\n"
     ]
    },
    {
     "name": "stderr",
     "output_type": "stream",
     "text": [
      "100%|██████████| 100/100 [00:52<00:00,  1.89it/s]\n"
     ]
    },
    {
     "name": "stdout",
     "output_type": "stream",
     "text": [
      "MLPRegressor: MSE=0.0476, PFI=            x1        x2\n",
      "mean  3.603779  0.003251\n",
      "std   0.246980  0.004205\n",
      "min   2.871742 -0.003881\n",
      "max   4.098662  0.018817\n"
     ]
    },
    {
     "name": "stderr",
     "output_type": "stream",
     "text": [
      "100%|██████████| 100/100 [00:04<00:00, 20.50it/s]\n"
     ]
    },
    {
     "name": "stdout",
     "output_type": "stream",
     "text": [
      "SVR: MSE=0.1085, PFI=            x1        x2\n",
      "mean  3.192926  0.035619\n",
      "std   0.218799  0.045343\n",
      "min   2.749811 -0.030364\n",
      "max   3.782612  0.142553\n"
     ]
    },
    {
     "name": "stderr",
     "output_type": "stream",
     "text": [
      "100%|██████████| 100/100 [00:00<00:00, 119.16it/s]\n"
     ]
    },
    {
     "name": "stdout",
     "output_type": "stream",
     "text": [
      "KNN: MSE=0.2142, PFI=            x1        x2\n",
      "mean  3.041099  0.017097\n",
      "std   0.217530  0.074495\n",
      "min   2.292966 -0.113888\n",
      "max   3.464127  0.197802\n",
      "CORRELATION=0.6\n",
      "          x1        x2\n",
      "x1  1.000000  0.580217\n",
      "x2  0.580217  1.000000\n"
     ]
    },
    {
     "name": "stderr",
     "output_type": "stream",
     "text": [
      "100%|██████████| 100/100 [00:00<00:00, 167.14it/s]\n"
     ]
    },
    {
     "name": "stdout",
     "output_type": "stream",
     "text": [
      "LinearRegression: MSE=2.2224, PFI=            x1        x2\n",
      "mean -0.039652 -0.007535\n",
      "std   0.019585  0.003274\n",
      "min  -0.097704 -0.013362\n",
      "max   0.016021  0.000599\n"
     ]
    },
    {
     "name": "stderr",
     "output_type": "stream",
     "text": [
      "100%|██████████| 100/100 [00:00<00:00, 162.62it/s]\n"
     ]
    },
    {
     "name": "stdout",
     "output_type": "stream",
     "text": [
      "Lasso: MSE=2.1696, PFI=       x1   x2\n",
      "mean  0.0  0.0\n",
      "std   0.0  0.0\n",
      "min   0.0  0.0\n",
      "max   0.0  0.0\n"
     ]
    },
    {
     "name": "stderr",
     "output_type": "stream",
     "text": [
      "100%|██████████| 100/100 [00:00<00:00, 106.66it/s]\n"
     ]
    },
    {
     "name": "stdout",
     "output_type": "stream",
     "text": [
      "DecisionTree: MSE=0.1023, PFI=            x1        x2\n",
      "mean  4.217182 -0.007216\n",
      "std   0.297460  0.005400\n",
      "min   3.542750 -0.020093\n",
      "max   4.966244  0.007322\n"
     ]
    },
    {
     "name": "stderr",
     "output_type": "stream",
     "text": [
      "100%|██████████| 100/100 [00:31<00:00,  3.14it/s]\n"
     ]
    },
    {
     "name": "stdout",
     "output_type": "stream",
     "text": [
      "RandomForest: MSE=0.0559, PFI=            x1        x2\n",
      "mean  4.288521  0.001521\n",
      "std   0.302953  0.002549\n",
      "min   3.146040 -0.003904\n",
      "max   4.957046  0.007232\n"
     ]
    },
    {
     "name": "stderr",
     "output_type": "stream",
     "text": [
      "100%|██████████| 100/100 [00:17<00:00,  5.83it/s]\n"
     ]
    },
    {
     "name": "stdout",
     "output_type": "stream",
     "text": [
      "ExtraTrees: MSE=0.0568, PFI=            x1        x2\n",
      "mean  4.188020  0.001139\n",
      "std   0.276174  0.003040\n",
      "min   3.600842 -0.005358\n",
      "max   4.689824  0.007548\n"
     ]
    },
    {
     "name": "stderr",
     "output_type": "stream",
     "text": [
      "100%|██████████| 100/100 [00:12<00:00,  7.80it/s]\n"
     ]
    },
    {
     "name": "stdout",
     "output_type": "stream",
     "text": [
      "GradientBoosting: MSE=0.0505, PFI=            x1        x2\n",
      "mean  4.128936  0.001948\n",
      "std   0.333352  0.001396\n",
      "min   3.294192 -0.001540\n",
      "max   4.791555  0.005268\n"
     ]
    },
    {
     "name": "stderr",
     "output_type": "stream",
     "text": [
      "100%|██████████| 100/100 [00:47<00:00,  2.09it/s]\n"
     ]
    },
    {
     "name": "stdout",
     "output_type": "stream",
     "text": [
      "HistGradientBoosting: MSE=0.1486, PFI=            x1        x2\n",
      "mean  4.128470 -0.012288\n",
      "std   0.290778  0.011056\n",
      "min   3.330899 -0.038643\n",
      "max   4.878138  0.016614\n"
     ]
    },
    {
     "name": "stderr",
     "output_type": "stream",
     "text": [
      "100%|██████████| 100/100 [00:09<00:00, 10.36it/s]\n"
     ]
    },
    {
     "name": "stdout",
     "output_type": "stream",
     "text": [
      "AdaBoost: MSE=0.2206, PFI=            x1   x2\n",
      "mean  3.550180  0.0\n",
      "std   0.277345  0.0\n",
      "min   2.696556  0.0\n",
      "max   4.115929  0.0\n"
     ]
    },
    {
     "name": "stderr",
     "output_type": "stream",
     "text": [
      "100%|██████████| 100/100 [00:04<00:00, 22.86it/s]\n"
     ]
    },
    {
     "name": "stdout",
     "output_type": "stream",
     "text": [
      "Bagging: MSE=0.0603, PFI=            x1        x2\n",
      "mean  4.217087  0.000165\n",
      "std   0.279467  0.002871\n",
      "min   3.389277 -0.006259\n",
      "max   4.795815  0.006639\n"
     ]
    },
    {
     "name": "stderr",
     "output_type": "stream",
     "text": [
      "100%|██████████| 100/100 [00:48<00:00,  2.06it/s]\n"
     ]
    },
    {
     "name": "stdout",
     "output_type": "stream",
     "text": [
      "MLPRegressor: MSE=0.0520, PFI=            x1        x2\n",
      "mean  4.151631  0.005795\n",
      "std   0.311187  0.005776\n",
      "min   3.303274 -0.004087\n",
      "max   5.027326  0.025788\n"
     ]
    },
    {
     "name": "stderr",
     "output_type": "stream",
     "text": [
      "100%|██████████| 100/100 [00:04<00:00, 20.28it/s]\n"
     ]
    },
    {
     "name": "stdout",
     "output_type": "stream",
     "text": [
      "SVR: MSE=0.0786, PFI=            x1        x2\n",
      "mean  3.650873  0.081016\n",
      "std   0.266415  0.044673\n",
      "min   3.047549 -0.007650\n",
      "max   4.342066  0.212960\n"
     ]
    },
    {
     "name": "stderr",
     "output_type": "stream",
     "text": [
      "100%|██████████| 100/100 [00:00<00:00, 124.83it/s]\n"
     ]
    },
    {
     "name": "stdout",
     "output_type": "stream",
     "text": [
      "KNN: MSE=0.1565, PFI=            x1        x2\n",
      "mean  3.388538  0.192830\n",
      "std   0.260955  0.081172\n",
      "min   2.811593  0.014955\n",
      "max   4.062671  0.362694\n",
      "CORRELATION=0.9\n",
      "          x1        x2\n",
      "x1  1.000000  0.905969\n",
      "x2  0.905969  1.000000\n"
     ]
    },
    {
     "name": "stderr",
     "output_type": "stream",
     "text": [
      "100%|██████████| 100/100 [00:00<00:00, 176.37it/s]\n"
     ]
    },
    {
     "name": "stdout",
     "output_type": "stream",
     "text": [
      "LinearRegression: MSE=1.7747, PFI=            x1        x2\n",
      "mean -0.001275 -0.002642\n",
      "std   0.002278  0.010416\n",
      "min  -0.007401 -0.025774\n",
      "max   0.003644  0.021758\n"
     ]
    },
    {
     "name": "stderr",
     "output_type": "stream",
     "text": [
      "100%|██████████| 100/100 [00:00<00:00, 168.94it/s]\n"
     ]
    },
    {
     "name": "stdout",
     "output_type": "stream",
     "text": [
      "Lasso: MSE=1.7673, PFI=       x1   x2\n",
      "mean  0.0  0.0\n",
      "std   0.0  0.0\n",
      "min   0.0  0.0\n",
      "max   0.0  0.0\n"
     ]
    },
    {
     "name": "stderr",
     "output_type": "stream",
     "text": [
      "100%|██████████| 100/100 [00:00<00:00, 111.36it/s]\n"
     ]
    },
    {
     "name": "stdout",
     "output_type": "stream",
     "text": [
      "DecisionTree: MSE=0.1070, PFI=            x1        x2\n",
      "mean  3.529031 -0.006197\n",
      "std   0.274525  0.005002\n",
      "min   2.665093 -0.016246\n",
      "max   4.221473  0.005041\n"
     ]
    },
    {
     "name": "stderr",
     "output_type": "stream",
     "text": [
      "100%|██████████| 100/100 [00:30<00:00,  3.27it/s]\n"
     ]
    },
    {
     "name": "stdout",
     "output_type": "stream",
     "text": [
      "RandomForest: MSE=0.0606, PFI=            x1        x2\n",
      "mean  3.476925  0.005034\n",
      "std   0.271251  0.002017\n",
      "min   2.515354 -0.001065\n",
      "max   4.033506  0.009607\n"
     ]
    },
    {
     "name": "stderr",
     "output_type": "stream",
     "text": [
      "100%|██████████| 100/100 [00:16<00:00,  6.05it/s]\n"
     ]
    },
    {
     "name": "stdout",
     "output_type": "stream",
     "text": [
      "ExtraTrees: MSE=0.0615, PFI=            x1        x2\n",
      "mean  2.983012  0.071394\n",
      "std   0.210524  0.021381\n",
      "min   2.506586  0.033416\n",
      "max   3.473641  0.139982\n"
     ]
    },
    {
     "name": "stderr",
     "output_type": "stream",
     "text": [
      "100%|██████████| 100/100 [00:12<00:00,  8.25it/s]\n"
     ]
    },
    {
     "name": "stdout",
     "output_type": "stream",
     "text": [
      "GradientBoosting: MSE=0.0549, PFI=            x1        x2\n",
      "mean  3.472591 -0.001133\n",
      "std   0.279755  0.001309\n",
      "min   2.665446 -0.004192\n",
      "max   3.990375  0.001804\n"
     ]
    },
    {
     "name": "stderr",
     "output_type": "stream",
     "text": [
      "100%|██████████| 100/100 [00:45<00:00,  2.17it/s]\n"
     ]
    },
    {
     "name": "stdout",
     "output_type": "stream",
     "text": [
      "HistGradientBoosting: MSE=0.1738, PFI=            x1        x2\n",
      "mean  2.871322  0.017415\n",
      "std   0.237392  0.007025\n",
      "min   2.135303 -0.010818\n",
      "max   3.345053  0.028121\n"
     ]
    },
    {
     "name": "stderr",
     "output_type": "stream",
     "text": [
      "100%|██████████| 100/100 [00:07<00:00, 13.69it/s]\n"
     ]
    },
    {
     "name": "stdout",
     "output_type": "stream",
     "text": [
      "AdaBoost: MSE=0.2172, PFI=            x1   x2\n",
      "mean  2.996241  0.0\n",
      "std   0.231967  0.0\n",
      "min   2.335421  0.0\n",
      "max   3.479361  0.0\n"
     ]
    },
    {
     "name": "stderr",
     "output_type": "stream",
     "text": [
      "100%|██████████| 100/100 [00:04<00:00, 22.66it/s]\n"
     ]
    },
    {
     "name": "stdout",
     "output_type": "stream",
     "text": [
      "Bagging: MSE=0.0720, PFI=            x1        x2\n",
      "mean  3.395642  0.013247\n",
      "std   0.244340  0.002408\n",
      "min   2.671434  0.007579\n",
      "max   3.954234  0.021047\n"
     ]
    },
    {
     "name": "stderr",
     "output_type": "stream",
     "text": [
      "100%|██████████| 100/100 [00:48<00:00,  2.05it/s]\n"
     ]
    },
    {
     "name": "stdout",
     "output_type": "stream",
     "text": [
      "MLPRegressor: MSE=0.0618, PFI=            x1        x2\n",
      "mean  3.111387  0.071770\n",
      "std   0.224338  0.021022\n",
      "min   2.367988  0.023501\n",
      "max   3.624928  0.130512\n"
     ]
    },
    {
     "name": "stderr",
     "output_type": "stream",
     "text": [
      "100%|██████████| 100/100 [00:04<00:00, 20.43it/s]\n"
     ]
    },
    {
     "name": "stdout",
     "output_type": "stream",
     "text": [
      "SVR: MSE=0.0995, PFI=            x1        x2\n",
      "mean  2.172855  0.273005\n",
      "std   0.162560  0.069685\n",
      "min   1.640093  0.110503\n",
      "max   2.632694  0.427104\n"
     ]
    },
    {
     "name": "stderr",
     "output_type": "stream",
     "text": [
      "100%|██████████| 100/100 [00:00<00:00, 121.05it/s]"
     ]
    },
    {
     "name": "stdout",
     "output_type": "stream",
     "text": [
      "KNN: MSE=0.0854, PFI=            x1        x2\n",
      "mean  2.444552  0.685293\n",
      "std   0.187168  0.142153\n",
      "min   1.933683  0.398073\n",
      "max   2.863029  1.048845\n"
     ]
    },
    {
     "name": "stderr",
     "output_type": "stream",
     "text": [
      "\n"
     ]
    }
   ],
   "source": [
    "from sklearn.linear_model import (\n",
    "    LinearRegression,\n",
    "    Ridge,\n",
    "    Lasso,\n",
    ")\n",
    "from sklearn.tree import DecisionTreeRegressor\n",
    "from sklearn.ensemble import (\n",
    "    RandomForestRegressor,\n",
    "    GradientBoostingRegressor,\n",
    "    ExtraTreesRegressor,\n",
    "    AdaBoostRegressor,\n",
    "    BaggingRegressor,\n",
    "    HistGradientBoostingRegressor,\n",
    ")\n",
    "from sklearn.neural_network import MLPRegressor\n",
    "from sklearn.svm import SVR\n",
    "from sklearn.neighbors import KNeighborsRegressor\n",
    "from sklearn.gaussian_process import GaussianProcessRegressor\n",
    "\n",
    "models = {\n",
    "    \"LinearRegression\": LinearRegression(),\n",
    "    \"Lasso\": Lasso(),\n",
    "    \"DecisionTree\": DecisionTreeRegressor(random_state=42),\n",
    "    \"RandomForest\": RandomForestRegressor(random_state=42),\n",
    "    \"ExtraTrees\": ExtraTreesRegressor(random_state=42),\n",
    "    \"GradientBoosting\": GradientBoostingRegressor(random_state=42),\n",
    "    \"HistGradientBoosting\": HistGradientBoostingRegressor(random_state=42),\n",
    "    \"AdaBoost\": AdaBoostRegressor(random_state=42),\n",
    "    \"Bagging\": BaggingRegressor(random_state=42),\n",
    "    \"MLPRegressor\": MLPRegressor(random_state=42, max_iter=1000),\n",
    "    \"SVR\": SVR(),\n",
    "    \"KNN\": KNeighborsRegressor(),\n",
    "}\n",
    "for cor in [0, 0.3, 0.6, 0.9]:\n",
    "    X, y = dgp_bivariatenormal(N=1000, cor=cor)\n",
    "    print(f\"CORRELATION={cor}\")\n",
    "    print(X.corr())\n",
    "    X_train, X_test, y_train, y_test = train_test_split(\n",
    "        X, y, test_size=0.2, random_state=42\n",
    "    )\n",
    "    for name, model in models.items():\n",
    "        model.fit(X_train, y_train)\n",
    "        mse = mean_squared_error(y_test, model.predict(X_test))\n",
    "        pfi_scores = pfiss(model, X_train, y_train, X_test, y_test, repetitions=100)\n",
    "        print(f\"{name}: MSE={mse:.4f}, PFI={pfi_scores}\")"
   ]
  },
  {
   "cell_type": "code",
   "execution_count": null,
   "metadata": {},
   "outputs": [],
   "source": []
  }
 ],
 "metadata": {
  "kernelspec": {
   "display_name": "Python 3",
   "language": "python",
   "name": "python3"
  },
  "language_info": {
   "codemirror_mode": {
    "name": "ipython",
    "version": 3
   },
   "file_extension": ".py",
   "mimetype": "text/x-python",
   "name": "python",
   "nbconvert_exporter": "python",
   "pygments_lexer": "ipython3",
   "version": "3.13.2"
  }
 },
 "nbformat": 4,
 "nbformat_minor": 2
}
